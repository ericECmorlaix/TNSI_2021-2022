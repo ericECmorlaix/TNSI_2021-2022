{
 "cells": [
  {
   "cell_type": "markdown",
   "metadata": {},
   "source": [
    "<h1><center><span style=\"color:#369;background:#fdf;padding: 10px 30px 10px 30px;border: 3px solid #369;border-radius:7px;\">Correction du TP implémentation des graphes</span></center></h1>"
   ]
  },
  {
   "cell_type": "markdown",
   "metadata": {},
   "source": [
    "## Objectif\n",
    "Nous avons utilisé les classes Graph et DiGraph déjà toutes faites de la bibliothèque networkx. L'objectif de ce TP est de créer nous même ces classes.\n",
    "\n",
    "Il y a plusieurs façons de les implémenter. Nous allons en voir deux :\n",
    "- avec la matrice d'adjacence\n",
    "- avec le dictionnaire d'adjacence\n",
    "\n",
    "Nous utiliserons ici le module `Graphviz` pour l'affichage des graphes :"
   ]
  },
  {
   "cell_type": "code",
   "execution_count": 1,
   "metadata": {},
   "outputs": [],
   "source": [
    "# Import de graphviz.\n",
    "from graphviz import Graph"
   ]
  },
  {
   "cell_type": "markdown",
   "metadata": {},
   "source": [
    "> Si [`graphviz`](https://www.graphviz.org/) n'est pas disponible, il faut au préalable,\n",
    "> - télécharger la bibliothèque système adaptée à votre OS : [Windows: graphviz-3.0.0 (64-bit) EXE installer](https://www.graphviz.org/download/#windows)\n",
    "> - puis l'installer en choisissant `Add Graphviz to the system PATH for all users`\n",
    "> - enfin, installer sa bibliothèque Python dans un terminal avec la commande `pip install graphviz` "
   ]
  },
  {
   "cell_type": "markdown",
   "metadata": {},
   "source": [
    "## Implémentation d'un graphe non orienté sous forme de matrice d'adjacence"
   ]
  },
  {
   "cell_type": "markdown",
   "metadata": {},
   "source": [
    "<div class=\"alert alert-warning\" role=\"alert\">\n",
    "    \n",
    "## Exercice 1\n",
    "On considère la classe `Graphe` ci-dessous qu'il faudra **compléter et tester au fur et à mesure**.\n",
    "    \n",
    "On utilisera une matrice d'adjacence pour stocker les arêtes entre les différents sommets.  \n",
    "La taille de la matrice sera spécifiée lors de la création du graphe via le paramètre `n`  \n",
    "Les sommets sont accessibles par leur indice (de 0 à n-1)\n",
    "    \n",
    "Attention, comme le graphe n'est pas orienté, si A et B sont adjacents, il faudra faire une arête de A vers B et aussi de B vers A.\n",
    "</div>"
   ]
  },
  {
   "cell_type": "code",
   "execution_count": 2,
   "metadata": {},
   "outputs": [
    {
     "data": {
      "text/plain": [
       "[[False, False, False], [False, False, False], [False, False, False]]"
      ]
     },
     "execution_count": 2,
     "metadata": {},
     "output_type": "execute_result"
    }
   ],
   "source": [
    "n=3\n",
    "[[False]*n for i in range(n)]"
   ]
  },
  {
   "cell_type": "code",
   "execution_count": 3,
   "metadata": {},
   "outputs": [],
   "source": [
    "class Graphe:    \n",
    "    def __init__(self,n):\n",
    "        ''' Le constructeur de la classe dont les attributs d'instance sont n et adj\n",
    "            Exemple: G=Graphe(5) instancie un graphe d'ordre 5 de sommets 0,1,2,3,4 sans aucune arête'''\n",
    "        self.n = n \n",
    "        self.adj = [[False]*n for i in range(n)] # liste d'adjacence\n",
    "        \n",
    "    def ajoute_arete(self,i,j):\n",
    "        '''Ajoute une arête entre i et j et entre j et i'''\n",
    "        self.adj[i][j] = True\n",
    "        self.adj[j][i] = True\n",
    "        \n",
    "    def arete(self,i,j):\n",
    "        '''Renvoie True s'il y a une arête entre i et j et False sinon'''\n",
    "        return self.adj[i][j]\n",
    "    \n",
    "    def voisins(self,i):\n",
    "        '''Renvoie la liste des voisins de i'''\n",
    "        v = []\n",
    "        for j in range(self.n):\n",
    "            if self.adj[i][j] : \n",
    "                v.append(j)\n",
    "        return v\n",
    "    \n",
    "    def degre(self,i):\n",
    "        '''Renvoie le degré du sommet i'''\n",
    "        return len(self.voisins(i))\n",
    "    \n",
    "    def nb_aretes(self):\n",
    "        '''Renvoie le nb d'arêtes du graphe'''\n",
    "        m=0                            # autre possibilité puisque la somme des degrés est 2 fois le nb d'arêtes\n",
    "        for i in range(self.n-1):      # d=0\n",
    "            for j in range(i,self.n):  # for i in range(self.n):\n",
    "                if self.adj[i][j]:     #     d=d+self.degre(i)\n",
    "                    m=m+1              # return d//2\n",
    "        return m\n",
    "    \n",
    "    def affiche(self): \n",
    "        \"Affichage du graphe en utilisant le module graphviz\"\n",
    "        dot = Graph('G')\n",
    "        for i in range(self.n):\n",
    "            for j in range(self.n): \n",
    "                # Condition pour éviter les doubles arêtes\n",
    "                if self.adj[i][j] and '{} -- {}'.format(j,i) not in dot.source:\n",
    "                    # dot.edge n'accepte que le type str\n",
    "                    dot.edge(str(i),str(j))        \n",
    "        return dot"
   ]
  },
  {
   "cell_type": "markdown",
   "metadata": {},
   "source": [
    "### Question 1\n",
    "Compléter la méthode `ajoute_arete` ci-dessus puis la tester avec l'exemple suivant"
   ]
  },
  {
   "cell_type": "code",
   "execution_count": 4,
   "metadata": {},
   "outputs": [
    {
     "data": {
      "image/svg+xml": "<?xml version=\"1.0\" encoding=\"UTF-8\" standalone=\"no\"?>\n<!DOCTYPE svg PUBLIC \"-//W3C//DTD SVG 1.1//EN\"\n \"http://www.w3.org/Graphics/SVG/1.1/DTD/svg11.dtd\">\n<!-- Generated by graphviz version 3.0.0 (20220226.1711)\n -->\n<!-- Title: G Pages: 1 -->\n<svg width=\"102pt\" height=\"260pt\"\n viewBox=\"0.00 0.00 101.53 260.00\" xmlns=\"http://www.w3.org/2000/svg\" xmlns:xlink=\"http://www.w3.org/1999/xlink\">\n<g id=\"graph0\" class=\"graph\" transform=\"scale(1 1) rotate(0) translate(4 256)\">\n<title>G</title>\n<polygon fill=\"white\" stroke=\"transparent\" points=\"-4,4 -4,-256 97.53,-256 97.53,4 -4,4\"/>\n<!-- 0 -->\n<g id=\"node1\" class=\"node\">\n<title>0</title>\n<ellipse fill=\"none\" stroke=\"black\" cx=\"66.53\" cy=\"-234\" rx=\"27\" ry=\"18\"/>\n<text text-anchor=\"middle\" x=\"66.53\" y=\"-230.3\" font-family=\"Times New Roman,serif\" font-size=\"14.00\">0</text>\n</g>\n<!-- 1 -->\n<g id=\"node2\" class=\"node\">\n<title>1</title>\n<ellipse fill=\"none\" stroke=\"black\" cx=\"39.53\" cy=\"-162\" rx=\"27\" ry=\"18\"/>\n<text text-anchor=\"middle\" x=\"39.53\" y=\"-158.3\" font-family=\"Times New Roman,serif\" font-size=\"14.00\">1</text>\n</g>\n<!-- 0&#45;&#45;1 -->\n<g id=\"edge1\" class=\"edge\">\n<title>0&#45;&#45;1</title>\n<path fill=\"none\" stroke=\"black\" d=\"M60.13,-216.41C55.89,-205.41 50.34,-191.03 46.07,-179.96\"/>\n</g>\n<!-- 3 -->\n<g id=\"node3\" class=\"node\">\n<title>3</title>\n<ellipse fill=\"none\" stroke=\"black\" cx=\"39.53\" cy=\"-18\" rx=\"27\" ry=\"18\"/>\n<text text-anchor=\"middle\" x=\"39.53\" y=\"-14.3\" font-family=\"Times New Roman,serif\" font-size=\"14.00\">3</text>\n</g>\n<!-- 0&#45;&#45;3 -->\n<g id=\"edge2\" class=\"edge\">\n<title>0&#45;&#45;3</title>\n<path fill=\"none\" stroke=\"black\" d=\"M71.25,-216.08C78.76,-186.23 91.08,-122.57 75.53,-72 71.15,-57.75 61.49,-43.9 53.28,-33.93\"/>\n</g>\n<!-- 1&#45;&#45;3 -->\n<g id=\"edge4\" class=\"edge\">\n<title>1&#45;&#45;3</title>\n<path fill=\"none\" stroke=\"black\" d=\"M25.78,-146.07C17.57,-136.1 7.91,-122.25 3.53,-108 -1.18,-92.71 -1.18,-87.29 3.53,-72 7.91,-57.75 17.57,-43.9 25.78,-33.93\"/>\n</g>\n<!-- 2 -->\n<g id=\"node4\" class=\"node\">\n<title>2</title>\n<ellipse fill=\"none\" stroke=\"black\" cx=\"39.53\" cy=\"-90\" rx=\"27\" ry=\"18\"/>\n<text text-anchor=\"middle\" x=\"39.53\" y=\"-86.3\" font-family=\"Times New Roman,serif\" font-size=\"14.00\">2</text>\n</g>\n<!-- 1&#45;&#45;2 -->\n<g id=\"edge3\" class=\"edge\">\n<title>1&#45;&#45;2</title>\n<path fill=\"none\" stroke=\"black\" d=\"M39.53,-143.7C39.53,-132.85 39.53,-118.92 39.53,-108.1\"/>\n</g>\n<!-- 2&#45;&#45;3 -->\n<g id=\"edge5\" class=\"edge\">\n<title>2&#45;&#45;3</title>\n<path fill=\"none\" stroke=\"black\" d=\"M39.53,-71.7C39.53,-60.85 39.53,-46.92 39.53,-36.1\"/>\n</g>\n</g>\n</svg>\n",
      "text/plain": [
       "<graphviz.graphs.Graph at 0x27fce416e00>"
      ]
     },
     "execution_count": 4,
     "metadata": {},
     "output_type": "execute_result"
    }
   ],
   "source": [
    "# Exemple\n",
    "G = Graphe(4)\n",
    "G.ajoute_arete(0,1)\n",
    "G.ajoute_arete(0,3)\n",
    "G.ajoute_arete(1,2)\n",
    "G.ajoute_arete(3,1)\n",
    "G.ajoute_arete(3,2)\n",
    "G.affiche()"
   ]
  },
  {
   "cell_type": "markdown",
   "metadata": {},
   "source": [
    "### Question 2\n",
    "Compléter la méthode `arete` de la classe Graphe plus haut puis la tester"
   ]
  },
  {
   "cell_type": "code",
   "execution_count": null,
   "metadata": {},
   "outputs": [],
   "source": [
    "# Jeu de tests de la méthode arete (pensez à tester l'arête entre i et j et aussi entre j et i)\n",
    "G.arete(0,1)"
   ]
  },
  {
   "cell_type": "code",
   "execution_count": null,
   "metadata": {},
   "outputs": [],
   "source": [
    "G.arete(1,0)"
   ]
  },
  {
   "cell_type": "code",
   "execution_count": null,
   "metadata": {},
   "outputs": [],
   "source": [
    "G.arete(2,3)"
   ]
  },
  {
   "cell_type": "markdown",
   "metadata": {},
   "source": [
    "### Question 3\n",
    "Compléter la méthode `voisins` de la classe Graphe plus haut puis la tester"
   ]
  },
  {
   "cell_type": "code",
   "execution_count": null,
   "metadata": {},
   "outputs": [],
   "source": [
    "# Jeu de tests de la méthode voisins\n",
    "G.voisins(1)"
   ]
  },
  {
   "cell_type": "code",
   "execution_count": null,
   "metadata": {},
   "outputs": [],
   "source": [
    "G.voisins(2)"
   ]
  },
  {
   "cell_type": "markdown",
   "metadata": {},
   "source": [
    "### Question 4\n",
    "Compléter la méthode `degre` de la classe Graphe plus haut puis la tester"
   ]
  },
  {
   "cell_type": "code",
   "execution_count": null,
   "metadata": {},
   "outputs": [],
   "source": [
    "# Jeu de tests de la méthode degre\n",
    "G.degre(1)"
   ]
  },
  {
   "cell_type": "code",
   "execution_count": null,
   "metadata": {
    "slideshow": {
     "slide_type": "fragment"
    }
   },
   "outputs": [],
   "source": [
    "G.degre(2)"
   ]
  },
  {
   "cell_type": "markdown",
   "metadata": {},
   "source": [
    "### Question 5\n",
    "Compléter la méthode `nb_aretes` de la classe Graphe plus haut puis la tester"
   ]
  },
  {
   "cell_type": "code",
   "execution_count": null,
   "metadata": {},
   "outputs": [],
   "source": [
    "# Jeu de tests de la méthode nb_aretes\n",
    "G.nb_aretes()"
   ]
  },
  {
   "cell_type": "code",
   "execution_count": null,
   "metadata": {
    "deletable": false,
    "editable": false
   },
   "outputs": [],
   "source": [
    "# Test des différentes méthodes précédentes\n",
    "# me permet de voir que vos méthodes ont l'air correctes, c'est le cas si cette cellule ne renvoie pas d'erreur\n",
    "GTest=Graphe(10)\n",
    "for i in range(0,10,2):\n",
    "    for j in range(1,10,2):\n",
    "        GTest.ajoute_arete(i,j)\n",
    "assert [GTest.arete(i,j) for i in range(10) for j in range(10)]==[(i-j)%2==1 for i in range(10) for j in range(10)]\n",
    "assert [GTest.voisins(i) for i in range(10)]==[[1, 3, 5, 7, 9], [0, 2, 4, 6, 8], [1, 3, 5, 7, 9], [0, 2, 4, 6, 8], [1, 3, 5, 7, 9], [0, 2, 4, 6, 8], [1, 3, 5, 7, 9], [0, 2, 4, 6, 8], [1, 3, 5, 7, 9], [0, 2, 4, 6, 8]]\n",
    "assert [GTest.degre(i) for i in range(10)]==[5, 5, 5, 5, 5, 5, 5, 5, 5, 5]\n",
    "assert GTest.nb_aretes()==25"
   ]
  },
  {
   "cell_type": "markdown",
   "metadata": {},
   "source": [
    "## Implémentation d'un graphe non orienté avec un dictionnaire d'adjacence"
   ]
  },
  {
   "cell_type": "markdown",
   "metadata": {},
   "source": [
    "<div class=\"alert alert-warning\" role=\"alert\">\n",
    "    \n",
    "## Exercice 2\n",
    "On considère la classe `Graphe` ci-dessous qu'il faudra **compléter et tester au fur et à mesure**.\n",
    "    \n",
    "On utilisera un dictionnaire d'adjacence : les clés seront les sommets du graphe (peuvent être cette fois-ci des chaînes de caractères) et la valeur associée à une clé sera la liste de ses voisins.\n",
    "    \n",
    "Attention, là aussi, comme le graphe n'est pas orienté, si A et B sont adjacents, il faudra faire une arête de A vers B et aussi de B vers A.\n",
    "</div>"
   ]
  },
  {
   "cell_type": "code",
   "execution_count": null,
   "metadata": {},
   "outputs": [],
   "source": [
    "class Graphe:    \n",
    "    def __init__(self):\n",
    "        ''' Le constructeur de la classe dont le seul attribut d'instance est le dictionnaire d'adjacence d\n",
    "            Exemple: G=Graphe() instancie un graphe vide'''\n",
    "        self.d = dict() # dictionnaire d'adjacence\n",
    "        \n",
    "    def ajoute_sommet(self,s):\n",
    "        '''Ajoute le sommet s au graphe si celui-ci est un nouveau sommet''' \n",
    "        if s not in self.d :\n",
    "            self.d[s] = []\n",
    "    \n",
    "    def ajoute_arete(self,s,t):\n",
    "        '''Ajoute si nécessaire les sommets s et t puis crée si elle n'existait pas une arête entre s et t'''\n",
    "        self.ajoute_sommet(s)\n",
    "        self.ajoute_sommet(t)\n",
    "        if t not in self.d[s]:\n",
    "            self.d[s].append(t)\n",
    "        if s not in self.d[t]:\n",
    "            self.d[t].append(s)\n",
    "        \n",
    "    def arete(self,s,t):\n",
    "        '''Renvoie True s'il y a une arête entre s et t et False sinon'''\n",
    "        return (t in self.d[s])\n",
    "    \n",
    "    def sommets(self):\n",
    "        '''Renvoie la liste de tous les sommets du graphe'''\n",
    "        return list(self.d.keys())\n",
    "    \n",
    "    def voisins(self,s):\n",
    "        '''Renvoie la liste des voisins de s'''\n",
    "        return self.d[s]\n",
    "    \n",
    "    def degre(self,s):\n",
    "        '''Renvoie le degré du sommet s'''\n",
    "        return len(self.d[s])\n",
    "    \n",
    "    def nb_aretes(self):\n",
    "        '''Renvoie le nb d'arêtes du graphe'''\n",
    "        S=0\n",
    "        for s in self.d:\n",
    "            S=S+self.degre(s)\n",
    "        return S//2\n",
    "    \n",
    "    def affiche(self): \n",
    "        \"Affichage du graphe en utilisant le module graphviz\"\n",
    "        dot = Graph('G')\n",
    "        for s in self.sommets():\n",
    "            for t in self.sommets(): \n",
    "                # Condition pour éviter les doubles arêtes\n",
    "                if (t in self.d[s]) and '{} -- {}'.format(t,s) not in dot.source:\n",
    "                    dot.edge(s,t)\n",
    "        return dot"
   ]
  },
  {
   "cell_type": "markdown",
   "metadata": {},
   "source": [
    "### Question 1\n",
    "Compléter les méthodes `ajoute_sommet` puis `ajoute_arete` ci-dessus puis les tester avec l'exemple suivant"
   ]
  },
  {
   "cell_type": "code",
   "execution_count": null,
   "metadata": {},
   "outputs": [],
   "source": [
    "# Exemple\n",
    "G = Graphe()\n",
    "for s in ['A','B','C','D']: # ces deux instructions ne sont pas utilies\n",
    "    G.ajoute_sommet(s)      # puisque la méthode ajoute_arete permet d'ajouter également les sommets\n",
    "G.ajoute_arete(\"A\",\"B\")\n",
    "G.ajoute_arete(\"A\",\"D\")\n",
    "G.ajoute_arete(\"B\",\"C\")\n",
    "G.ajoute_arete(\"D\",\"B\")\n",
    "G.affiche()"
   ]
  },
  {
   "cell_type": "markdown",
   "metadata": {},
   "source": [
    "### Question 2\n",
    "Compléter la méthode `arete` de la classe Graphe plus haut puis la tester"
   ]
  },
  {
   "cell_type": "code",
   "execution_count": null,
   "metadata": {},
   "outputs": [],
   "source": [
    "# Jeu de tests de la méthode arete (pensez à tester l'arête entre s et t et aussi entre t et s)\n",
    "G.arete('A','B')"
   ]
  },
  {
   "cell_type": "code",
   "execution_count": null,
   "metadata": {},
   "outputs": [],
   "source": [
    "G.arete('B','A')"
   ]
  },
  {
   "cell_type": "code",
   "execution_count": null,
   "metadata": {},
   "outputs": [],
   "source": [
    "G.arete('D','C')"
   ]
  },
  {
   "cell_type": "markdown",
   "metadata": {},
   "source": [
    "### Question 3\n",
    "Compléter la méthode `sommets` de la classe Graphe plus haut puis la tester"
   ]
  },
  {
   "cell_type": "code",
   "execution_count": null,
   "metadata": {},
   "outputs": [],
   "source": [
    "# test avec la méthode sommets\n",
    "G.sommets()"
   ]
  },
  {
   "cell_type": "markdown",
   "metadata": {},
   "source": [
    "### Question 4\n",
    "Compléter la méthode `voisins` de la classe Graphe plus haut puis la tester"
   ]
  },
  {
   "cell_type": "code",
   "execution_count": null,
   "metadata": {},
   "outputs": [],
   "source": [
    "# Jeu de tests avec la méthode voisins\n",
    "G.voisins('A')"
   ]
  },
  {
   "cell_type": "code",
   "execution_count": null,
   "metadata": {},
   "outputs": [],
   "source": [
    "G.voisins('C')"
   ]
  },
  {
   "cell_type": "markdown",
   "metadata": {},
   "source": [
    "### Question 5\n",
    "Compléter la méthode `degre` de la classe Graphe plus haut puis la tester"
   ]
  },
  {
   "cell_type": "code",
   "execution_count": null,
   "metadata": {},
   "outputs": [],
   "source": [
    "# Jeu de tests avec la méthode degre\n",
    "G.degre('A')"
   ]
  },
  {
   "cell_type": "code",
   "execution_count": null,
   "metadata": {},
   "outputs": [],
   "source": [
    "G.degre('B')"
   ]
  },
  {
   "cell_type": "markdown",
   "metadata": {},
   "source": [
    "### Question 5\n",
    "Compléter la méthode `nb_aretes` de la classe Graphe plus haut puis la tester"
   ]
  },
  {
   "cell_type": "code",
   "execution_count": null,
   "metadata": {},
   "outputs": [],
   "source": [
    "# Test avec la méthode nb_aretes\n",
    "G.nb_aretes()"
   ]
  },
  {
   "cell_type": "markdown",
   "metadata": {},
   "source": [
    "### Question 6\n",
    "Utilisez la classe précédente pour créer le graphe `G1` ci-dessous.\n",
    "![Graphe_abcdefgh.png](https://ericecmorlaix.github.io/img/Graphe_abcdefgh.png)"
   ]
  },
  {
   "cell_type": "code",
   "execution_count": null,
   "metadata": {},
   "outputs": [],
   "source": [
    "# Votre code ici.\n",
    "G1 = Graphe()\n",
    "G1.ajoute_arete(\"a\",\"b\")\n",
    "G1.ajoute_arete(\"a\",\"c\")\n",
    "G1.ajoute_arete(\"b\",\"d\")\n",
    "G1.ajoute_arete(\"b\",\"e\")\n",
    "G1.ajoute_arete(\"c\",\"d\")\n",
    "G1.ajoute_arete(\"d\",\"e\")\n",
    "G1.ajoute_arete(\"e\",\"g\")\n",
    "G1.ajoute_arete(\"e\",\"f\")\n",
    "G1.ajoute_arete(\"g\",\"f\")\n",
    "G1.ajoute_arete(\"g\",\"h\")\n",
    "G1.affiche()"
   ]
  },
  {
   "cell_type": "code",
   "execution_count": null,
   "metadata": {
    "editable": false
   },
   "outputs": [],
   "source": [
    "# Test des différentes méthodes précédentes\n",
    "# me permet de voir que vos méthodes ont l'air correctes, c'est le cas si cette cellule ne renvoie pas d'erreur\n",
    "GTestBis=Graphe()\n",
    "for i in range(0,10,2):\n",
    "    for j in range(1,10,2):\n",
    "        GTestBis.ajoute_arete(i,j)\n",
    "assert [GTestBis.arete(i,j) for i in range(10) for j in range(10)]==[(i-j)%2==1 for i in range(10) for j in range(10)]\n",
    "assert [GTestBis.voisins(i) for i in range(10)]==[[1, 3, 5, 7, 9], [0, 2, 4, 6, 8], [1, 3, 5, 7, 9], [0, 2, 4, 6, 8], [1, 3, 5, 7, 9], [0, 2, 4, 6, 8], [1, 3, 5, 7, 9], [0, 2, 4, 6, 8], [1, 3, 5, 7, 9], [0, 2, 4, 6, 8]]\n",
    "assert [GTestBis.degre(i) for i in range(10)]==[5, 5, 5, 5, 5, 5, 5, 5, 5, 5]\n",
    "assert GTestBis.nb_aretes()==25"
   ]
  },
  {
   "cell_type": "markdown",
   "metadata": {},
   "source": [
    "## Implémentation d'un graphe orienté avec un dictionnaire d'adjacence"
   ]
  },
  {
   "cell_type": "markdown",
   "metadata": {},
   "source": [
    "<div class=\"alert alert-warning\" role=\"alert\">\n",
    "    \n",
    "## Exercice 3\n",
    "On considère la classe `DiGraphe` ci-dessous qu'il faudra **compléter et tester au fur et à mesure**.\n",
    "    \n",
    "On utilisera un dictionnaire d'adjacence : les clés seront les sommets du graphe et la valeur associée à une clé sera la liste de ses prédecesseurs.\n",
    "    \n",
    "</div>"
   ]
  },
  {
   "cell_type": "code",
   "execution_count": null,
   "metadata": {},
   "outputs": [],
   "source": [
    "from graphviz import Digraph\n",
    "class DiGraphe:    \n",
    "    def __init__(self):\n",
    "        ''' Le constructeur de la classe dont le seul attribut d'instance est le dictionnaire d'adjacence d\n",
    "            Exemple: G=DiGraphe() instancie un graphe orienté vide'''\n",
    "        self.d = dict() # dictionnaire d'adjacence\n",
    "        \n",
    "    def ajoute_sommet(self,s):\n",
    "        '''Ajoute le sommet s au graphe si celui-ci est un nouveau sommet''' \n",
    "        if s not in self.d :\n",
    "            self.d[s] = []\n",
    "    \n",
    "    def ajoute_arc(self,s,t):\n",
    "        '''Ajoute si nécessaire les sommets s et t puis crée si il n'existait pas un arc de s vers t'''\n",
    "        self.ajoute_sommet(s)\n",
    "        self.ajoute_sommet(t)\n",
    "        if t not in self.d[s]:\n",
    "            self.d[s].append(t)\n",
    "        \n",
    "    def arc(self,s,t):\n",
    "        '''Renvoie True s'il y a un arc de s vers t, et False sinon'''\n",
    "        return (t in self.d[s])\n",
    "    \n",
    "    def sommets(self):\n",
    "        '''Renvoie la liste de tous les sommets du graphe'''\n",
    "        return list(self.d.keys())\n",
    "    \n",
    "    def successeurs(self,s):\n",
    "        '''Renvoie la liste des successeurs de s'''\n",
    "        return self.d[s]\n",
    "    \n",
    "    def degreSortant(self,s):\n",
    "        '''Renvoie le nb d'arcs sortant de s'''\n",
    "        return len(self.d[s])\n",
    "    \n",
    "    def degreEntrant(self,s):\n",
    "        '''Renvoie le nb d'arcs entrant dans s'''\n",
    "        cpt=0\n",
    "        for t in self.d:\n",
    "            if s in self.d[t]:\n",
    "                cpt=cpt+1\n",
    "        return cpt\n",
    "    \n",
    "    def affiche(self): \n",
    "        \"Affichage du graphe en utilisant le module graphviz\"\n",
    "        dot = Digraph('G')\n",
    "        for s in self.sommets():\n",
    "            for t in self.sommets():\n",
    "                if t in self.d[s]:\n",
    "                    dot.edge(s,t)        \n",
    "        return dot"
   ]
  },
  {
   "cell_type": "markdown",
   "metadata": {},
   "source": [
    "### Question 1\n",
    "Compléter les méthodes `ajoute_sommet` puis `ajoute_arc` ci-dessus puis les tester avec l'exemple suivant"
   ]
  },
  {
   "cell_type": "code",
   "execution_count": null,
   "metadata": {},
   "outputs": [],
   "source": [
    "# Exemple\n",
    "g = DiGraphe()\n",
    "g.ajoute_arc(\"A\",\"B\")\n",
    "g.ajoute_arc(\"A\",\"D\")\n",
    "g.ajoute_arc(\"B\",\"C\")\n",
    "g.ajoute_arc(\"D\",\"B\")\n",
    "g.affiche()"
   ]
  },
  {
   "cell_type": "markdown",
   "metadata": {},
   "source": [
    "### Question 2\n",
    "Compléter la méthode `arc` de la classe DiGraphe plus haut puis la tester"
   ]
  },
  {
   "cell_type": "code",
   "execution_count": null,
   "metadata": {},
   "outputs": [],
   "source": [
    "# Jeu de tests de la méthode arc (pensez à tester l'arc entre s et t et aussi entre t et s)\n",
    "g.arc('A','B')"
   ]
  },
  {
   "cell_type": "code",
   "execution_count": null,
   "metadata": {},
   "outputs": [],
   "source": [
    "# Jeu de tests de la méthode arc (pensez à tester l'arc entre s et t et aussi entre t et s)\n",
    "g.arc('B','A')"
   ]
  },
  {
   "cell_type": "markdown",
   "metadata": {},
   "source": [
    "### Question 3\n",
    "Compléter la méthode `sommets` de la classe Graphe plus haut puis la tester"
   ]
  },
  {
   "cell_type": "code",
   "execution_count": null,
   "metadata": {},
   "outputs": [],
   "source": [
    "# test avec la méthode sommets\n",
    "g.sommets()"
   ]
  },
  {
   "cell_type": "markdown",
   "metadata": {},
   "source": [
    "### Question 4\n",
    "Compléter la méthode `successeurs` de la classe DiGraphe plus haut puis la tester"
   ]
  },
  {
   "cell_type": "code",
   "execution_count": null,
   "metadata": {},
   "outputs": [],
   "source": [
    "# Jeu de tests avec la méthode voisins\n",
    "g.successeurs('A')"
   ]
  },
  {
   "cell_type": "code",
   "execution_count": null,
   "metadata": {},
   "outputs": [],
   "source": [
    "g.successeurs('C')"
   ]
  },
  {
   "cell_type": "markdown",
   "metadata": {},
   "source": [
    "### Question 5\n",
    "Compléter la méthode `degreSortant` de la classe DiGraphe plus haut puis la tester"
   ]
  },
  {
   "cell_type": "code",
   "execution_count": null,
   "metadata": {},
   "outputs": [],
   "source": [
    "# Jeu de tests avec la méthode degreSortant\n",
    "for s in g.sommets():\n",
    "    print(\"degré sortant du sommet\",s,\":\",g.degreSortant(s))"
   ]
  },
  {
   "cell_type": "markdown",
   "metadata": {},
   "source": [
    "### Question 6\n",
    "Compléter la méthode `degreEntrant` de la classe DiGraphe plus haut puis la tester"
   ]
  },
  {
   "cell_type": "code",
   "execution_count": null,
   "metadata": {},
   "outputs": [],
   "source": [
    "# Jeu de tests avec la méthode degreEntrant\n",
    "for s in g.sommets():\n",
    "    print(\"degré entrant du sommet\",s,\":\",g.degreEntrant(s))"
   ]
  },
  {
   "cell_type": "code",
   "execution_count": null,
   "metadata": {
    "editable": false
   },
   "outputs": [],
   "source": [
    "# Test des différentes méthodes précédentes\n",
    "# me permet de voir que vos méthodes ont l'air correctes, c'est le cas si cette cellule ne renvoie pas d'erreur\n",
    "GTestTer=DiGraphe()\n",
    "for i in range(0,10,2):\n",
    "    for j in range(1,10,2):\n",
    "        GTestTer.ajoute_arc(i,j)\n",
    "assert [GTestTer.arc(i,j) for i in range(10) for j in range(10)]==[(i%2==0 and j%2==1) for i in range(10) for j in range(10)]\n",
    "assert [GTestTer.successeurs(i) for i in range(10)]==[[1, 3, 5, 7, 9], [], [1, 3, 5, 7, 9], [], [1, 3, 5, 7, 9], [], [1, 3, 5, 7, 9], [], [1, 3, 5, 7, 9], []]\n",
    "assert [GTestTer.degreSortant(i) for i in range(10)]==[5, 0, 5, 0, 5, 0, 5, 0, 5, 0]\n",
    "assert [GTestTer.degreEntrant(i) for i in range(10)]==[0, 5, 0, 5, 0, 5, 0, 5, 0, 5]"
   ]
  },
  {
   "cell_type": "code",
   "execution_count": null,
   "metadata": {},
   "outputs": [],
   "source": []
  }
 ],
 "metadata": {
  "celltoolbar": "Éditer les Méta-Données",
  "kernelspec": {
   "display_name": "Python 3 (ipykernel)",
   "language": "python",
   "name": "python3"
  },
  "language_info": {
   "codemirror_mode": {
    "name": "ipython",
    "version": 3
   },
   "file_extension": ".py",
   "mimetype": "text/x-python",
   "name": "python",
   "nbconvert_exporter": "python",
   "pygments_lexer": "ipython3",
   "version": "3.10.1"
  }
 },
 "nbformat": 4,
 "nbformat_minor": 2
}
