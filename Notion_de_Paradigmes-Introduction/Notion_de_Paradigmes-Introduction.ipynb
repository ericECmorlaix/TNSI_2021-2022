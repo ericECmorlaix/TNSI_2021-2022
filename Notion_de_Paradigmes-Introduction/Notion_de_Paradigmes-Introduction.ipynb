{
 "cells": [
  {
   "cell_type": "markdown",
   "source": [
    "# Paradigmes de programmation\n",
    "\n",
    "\n",
    "Il existe de nombreuses façons de programmer une machine, différents schéma de pensée qui sont apparus et ont évolués au cours du temps, ce sont les **[paradigmes de programmation](https://fr.wikipedia.org/wiki/Paradigme_(programmation))**.\n",
    "\n",
    "\n",
    "Les langages de programmation sont nombreux et variés.\n",
    "Il n’est pas inusuel qu’un langage appartienne à plusieurs de ces paradigmes, c’est par exemple le cas de Python.\n",
    "\n",
    "Certains de ces paradigmes sont mieux adaptés que d’autres pour traiter des problèmes spécifiques.\n",
    "On verra aussi ultérieurement qu’il est possible d’utiliser plusieurs paradigmes à l’intérieur d’un même programme.\n",
    "\n",
    "Les paradigmes principaux sont impératif, objet, fonctionnel..."
   ],
   "metadata": {}
  },
  {
   "cell_type": "code",
   "execution_count": 1,
   "source": [
    "%%HTML\r\n",
    "<center>\r\n",
    "<iframe width=\"560\" height=\"315\" src=\"https://www.youtube.com/embed/5D7Shf9nG0Q\" frameborder=\"0\" allow=\"accelerometer; autoplay; encrypted-media; gyroscope; picture-in-picture\" allowfullscreen></iframe>\r\n",
    "</center>"
   ],
   "outputs": [
    {
     "output_type": "display_data",
     "data": {
      "text/html": [
       "<center>\n",
       "<iframe width=\"560\" height=\"315\" src=\"https://www.youtube.com/embed/5D7Shf9nG0Q\" frameborder=\"0\" allow=\"accelerometer; autoplay; encrypted-media; gyroscope; picture-in-picture\" allowfullscreen></iframe>\n",
       "</center>\n"
      ],
      "text/plain": [
       "<IPython.core.display.HTML object>"
      ]
     },
     "metadata": {}
    }
   ],
   "metadata": {}
  },
  {
   "cell_type": "markdown",
   "source": [
    "> [Vidéo complémentaire à voir aussi](https://youtu.be/3S1iPJJ-lPA)"
   ],
   "metadata": {}
  },
  {
   "cell_type": "markdown",
   "source": [
    "## Programmation impérative :\r\n",
    "\r\n",
    "Le paradigme sinon le plus ancien, tout au moins le plus traditionnel, est le **paradigme impératif**.\r\n",
    "\r\n",
    "Les premiers programmes ont été conçus sur ce principe :\r\n",
    "\r\n",
    "- Une suite d’instructions qui s’exécutent séquentiellement, les unes après les autres ;\r\n",
    "\r\n",
    "    Ces instructions comportent :\r\n",
    "    - Affectations\r\n",
    "    - Boucles (pour.., tant que…, répéter…jusqu’à…)\r\n",
    "    - Conditions (si…sinon)\r\n",
    "    - Branchement/saut sans condition\r\n",
    "    \r\n",
    "    \r\n",
    "- La programmation impérative actuelle limite autant que possible les sauts sans condition. Ce sous-paradigme est appelé **programmation structurée** :\r\n",
    "    \r\n",
    "    Les sauts sont utilisés en assembleur (instructions BR adr, « branch vers adresse » ).\r\n",
    "    \r\n",
    "    En Python, on limite ainsi l’utilisation du `break` à certains cas particuliers.\r\n",
    "    \r\n",
    "    A l’inverse, une programmation utilisant de nombreux sauts est qualifié de « programmation spaghetti », pour la « clarté » toute relative avec laquelle on peut le dérouler. Certains langages conduisent facilement  à ce style de code (BASIC, FORTRAN,…)\r\n",
    "    \r\n",
    "    \r\n",
    "- L’usage des fonctions comme vu en première est aussi une variante de la programmation impérative, appelée **programmation procédurale**.\r\n",
    "    Elle permet de mieux suivre l’exécution d’un programme, de le rendre plus facile à concevoir et à maintenir, et aussi d’utiliser des bibliothèques."
   ],
   "metadata": {}
  },
  {
   "cell_type": "markdown",
   "source": [
    "## Rappels de programmation impérative structurée et procédurale en Python...\r\n",
    "\r\n",
    "<h3 class='fa fa-code' style=\"color: darkorange\"> Activités de rappels à faire :</h3>\r\n",
    "\r\n",
    "### Exercice : Série de notes\r\n",
    "Écrire un programme qui permet :\r\n",
    "- de demander à l’utilisateur combien de notes il souhaite saisir → [ n ]\r\n",
    "- de saisir les [ n ] notes comprise entre [ 0 ; 20 ]\r\n",
    "- d’afficher la note la plus faible et la note la plus élevée\r\n",
    "- de calculer la moyenne\r\n",
    "\r\n",
    "### TP : Clé de vérification du code ISBN d’un livre\r\n",
    "\r\n",
    "A l'aide du [document ressource](https://ericecmorlaix.github.io/pdf/res_ISBN.pdf), écrire un programme qui vérifie que le code ISBN saisi ne contient pas d’erreur.\r\n",
    "\r\n",
    "Afin de vérifier les codes suivants :\r\n",
    "\r\n",
    "![Codes à vérifier](https://isn-icn-ljm.pagesperso-orange.fr/1-NSI/res/image_isbn2_1.png)"
   ],
   "metadata": {}
  }
 ],
 "metadata": {
  "kernelspec": {
   "display_name": "Python 3",
   "language": "python",
   "name": "python3"
  },
  "language_info": {
   "codemirror_mode": {
    "name": "ipython",
    "version": 3
   },
   "file_extension": ".py",
   "mimetype": "text/x-python",
   "name": "python",
   "nbconvert_exporter": "python",
   "pygments_lexer": "ipython3",
   "version": "3.7.3"
  },
  "toc": {
   "base_numbering": 1,
   "nav_menu": {},
   "number_sections": true,
   "sideBar": true,
   "skip_h1_title": false,
   "title_cell": "Table of Contents",
   "title_sidebar": "Contents",
   "toc_cell": false,
   "toc_position": {},
   "toc_section_display": true,
   "toc_window_display": false
  },
  "varInspector": {
   "cols": {
    "lenName": 16,
    "lenType": 16,
    "lenVar": 40
   },
   "kernels_config": {
    "python": {
     "delete_cmd_postfix": "",
     "delete_cmd_prefix": "del ",
     "library": "var_list.py",
     "varRefreshCmd": "print(var_dic_list())"
    },
    "r": {
     "delete_cmd_postfix": ") ",
     "delete_cmd_prefix": "rm(",
     "library": "var_list.r",
     "varRefreshCmd": "cat(var_dic_list()) "
    }
   },
   "types_to_exclude": [
    "module",
    "function",
    "builtin_function_or_method",
    "instance",
    "_Feature"
   ],
   "window_display": false
  }
 },
 "nbformat": 4,
 "nbformat_minor": 4
}